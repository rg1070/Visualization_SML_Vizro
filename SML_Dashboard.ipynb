{
 "cells": [
  {
   "cell_type": "code",
   "execution_count": 17,
   "id": "75744d76",
   "metadata": {},
   "outputs": [
    {
     "name": "stdout",
     "output_type": "stream",
     "text": [
      "Index(['Unnamed: 0', 'Date', 'Wind (kW)', 'PV (kW) [ECB+Dorms]', 'Diesel (kW)',\n",
      "       'SOC (%)', 'Day'],\n",
      "      dtype='object')\n",
      "Index(['Unnamed: 0', 'Date', 'Demand (W)', 'GHI (W/m2)',\n",
      "       'AirTemperature (degrees C)', 'WindSpeedIOSN3 (m/s)', 'Civil time',\n",
      "       'Day of year', 'Demand tPlusDifference (gal)',\n",
      "       'Demand flowRate (gal/min)', 'Rain (in)', 'RO_Switch', 'Well_Switch'],\n",
      "      dtype='object')\n",
      "          Source  Energy (kWh)\n",
      "0             PV         12552\n",
      "1           Wind          3523\n",
      "2         Diesel          4160\n",
      "3  Energy Demand         22833\n"
     ]
    }
   ],
   "source": [
    "import vizro.models as vm\n",
    "import vizro.plotly.express as px\n",
    "from vizro import Vizro\n",
    "import pandas as pd\n",
    "stocks = px.data.stocks()\n",
    "\n",
    "\n",
    "\n",
    "Energy_2022 = pd.read_csv(\"Energy_2022.csv\")\n",
    "Energy_2022[\"Date\"] = pd.to_datetime(Energy_2022[\"Date\"], format=\"%m/%d/%y %H:%M\")\n",
    "Energy_2022[\"Day\"] = Energy_2022[\"Date\"].dt.date\n",
    "\n",
    "Water_2022 = pd.read_csv(\"Water_2022.csv\")\n",
    "Input_2022 = pd.read_csv(\"Input_2022.csv\")\n",
    "\n",
    "print(Energy_2022.columns)\n",
    "print(Input_2022.columns)\n",
    "\n",
    "\n",
    "# Aggregate: divide by 60 to convert kW-min → kWh\n",
    "sums = {\n",
    "    \"PV\": round(Energy_2022[\"PV (kW) [ECB+Dorms]\"].sum() / 60),\n",
    "    \"Wind\": round(Energy_2022[\"Wind (kW)\"].sum() / 60),\n",
    "    \"Diesel\": round(Energy_2022[\"Diesel (kW)\"].sum() / 60),\n",
    "    \"Energy Demand\": round(Input_2022[\"Demand (W)\"].sum() / 60000),\n",
    "}\n",
    "df_summary = pd.DataFrame(list(sums.items()), columns=[\"Source\", \"Energy (kWh)\"])\n",
    "\n",
    "print(df_summary)\n"
   ]
  },
  {
   "cell_type": "code",
   "execution_count": null,
   "id": "45cfff3d",
   "metadata": {},
   "outputs": [
    {
     "name": "stdout",
     "output_type": "stream",
     "text": [
      "     total_bill   tip     sex smoker   day    time  size\n",
      "0         16.99  1.01  Female     No   Sun  Dinner     2\n",
      "1         10.34  1.66    Male     No   Sun  Dinner     3\n",
      "2         21.01  3.50    Male     No   Sun  Dinner     3\n",
      "3         23.68  3.31    Male     No   Sun  Dinner     2\n",
      "4         24.59  3.61  Female     No   Sun  Dinner     4\n",
      "..          ...   ...     ...    ...   ...     ...   ...\n",
      "239       29.03  5.92    Male     No   Sat  Dinner     3\n",
      "240       27.18  2.00  Female    Yes   Sat  Dinner     2\n",
      "241       22.67  2.00    Male    Yes   Sat  Dinner     2\n",
      "242       17.82  1.75    Male     No   Sat  Dinner     2\n",
      "243       18.78  3.00  Female     No  Thur  Dinner     2\n",
      "\n",
      "[244 rows x 7 columns]\n"
     ]
    }
   ],
   "source": [
    "import vizro.models as vm\n",
    "import vizro.plotly.express as px\n",
    "from vizro import Vizro\n",
    "\n",
    "tips = px.data.tips()\n",
    "print(tips)\n",
    "fig = px.pie(tips, values=\"tip\", names=\"day\")\n",
    "\n",
    "\n",
    "page = vm.Page(title=\"My page\", components=[vm.Graph(figure=fig)])\n",
    "#dashboard = vm.Dashboard(pages=[page])\n",
    "#Vizro().build(dashboard).run()\n"
   ]
  },
  {
   "cell_type": "code",
   "execution_count": 1,
   "id": "9e6466b1",
   "metadata": {},
   "outputs": [
    {
     "name": "stdout",
     "output_type": "stream",
     "text": [
      "   Source  Energy (kWh)\n",
      "0      PV         12552\n",
      "1    Wind          3523\n",
      "2  Diesel          4160\n"
     ]
    }
   ],
   "source": [
    "import vizro.models as vm\n",
    "import vizro.plotly.express as px\n",
    "from vizro import Vizro\n",
    "import pandas as pd\n",
    "\n",
    "# Load and preprocess data\n",
    "Energy_2022 = pd.read_csv(\"Energy_2022.csv\")\n",
    "Energy_2022[\"Date\"] = pd.to_datetime(Energy_2022[\"Date\"], format=\"%m/%d/%y %H:%M\")\n",
    "Energy_2022[\"timestamp\"] = Energy_2022[\"Date\"].astype(\"int64\") // 10**6  # milliseconds\n",
    "\n",
    "Water_2022 = pd.read_csv(\"Water_2022.csv\")\n",
    "Input_2022 = pd.read_csv(\"Input_2022.csv\")\n",
    "\n",
    "# Summary of generation and demand\n",
    "sums = {\n",
    "    \"PV\": round(Energy_2022[\"PV (kW) [ECB+Dorms]\"].sum() / 60),\n",
    "    \"Wind\": round(Energy_2022[\"Wind (kW)\"].sum() / 60),\n",
    "    \"Diesel\": round(Energy_2022[\"Diesel (kW)\"].sum() / 60),\n",
    "    \"Energy Demand\": round(Input_2022[\"Demand (W)\"].sum() / 60000),\n",
    "}\n",
    "df_summary = pd.DataFrame(list(sums.items()), columns=[\"Source\", \"Energy (kWh)\"])\n",
    "\n",
    "df_pie = df_summary[df_summary[\"Source\"].isin([\"PV\", \"Wind\", \"Diesel\"])]\n",
    "\n",
    "print(df_pie)"
   ]
  }
 ],
 "metadata": {
  "kernelspec": {
   "display_name": ".venv",
   "language": "python",
   "name": "python3"
  },
  "language_info": {
   "codemirror_mode": {
    "name": "ipython",
    "version": 3
   },
   "file_extension": ".py",
   "mimetype": "text/x-python",
   "name": "python",
   "nbconvert_exporter": "python",
   "pygments_lexer": "ipython3",
   "version": "3.13.2"
  }
 },
 "nbformat": 4,
 "nbformat_minor": 5
}
